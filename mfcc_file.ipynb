{
 "cells": [
  {
   "cell_type": "code",
   "execution_count": 1,
   "metadata": {},
   "outputs": [],
   "source": [
    "import numpy as np\n",
    "import matplotlib.pyplot as plt\n",
    "import librosa.display\n",
    "import pylab\n",
    "\n",
    "\n",
    "from sklearn.model_selection import train_test_split\n",
    "from sklearn.metrics import accuracy_score\n",
    "import librosa    \n",
    "import glob\n",
    "import tensorflow as tf\n",
    "from tensorflow.keras.preprocessing.image import ImageDataGenerator\n",
    "from tensorflow.keras.models import Sequential\n",
    "from tensorflow.keras.layers import Dense, Dropout, Activation, Flatten\n",
    "from tensorflow.keras.layers import Conv2D, MaxPooling2D\n",
    "from keras.utils import to_categorical\n",
    "from keras import optimizers\n",
    "import keras\n",
    "\n",
    "%matplotlib inline\n"
   ]
  },
  {
   "cell_type": "code",
   "execution_count": 2,
   "metadata": {},
   "outputs": [],
   "source": [
    "audio_data = []\n",
    "labels = []\n",
    "sampling_rate = []\n",
    "file_names = []\n"
   ]
  },
  {
   "cell_type": "code",
   "execution_count": 3,
   "metadata": {},
   "outputs": [
    {
     "name": "stdout",
     "output_type": "stream",
     "text": [
      "(220044,)\n",
      "44000\n"
     ]
    }
   ],
   "source": [
    "#samplerate, data = wavfile.read(\"dataset/dog/1-30344-A.wav\")\n",
    "data, samplerate = librosa.load(\"dataset/001 - Dog bark/1-30226-A.ogg\", sr=44000) # Downsample 44.1kHz to 8kHz\n",
    "\n",
    "print(data.shape)\n",
    "print(samplerate)\n"
   ]
  },
  {
   "cell_type": "code",
   "execution_count": 4,
   "metadata": {},
   "outputs": [
    {
     "name": "stdout",
     "output_type": "stream",
     "text": [
      "5.001\n",
      "2.272727272727273e-05\n",
      "176000.0\n"
     ]
    }
   ],
   "source": [
    "time_sec = (len(data)/samplerate)\n",
    "step = time_sec/len(data)\n",
    "print(time_sec)\n",
    "print(step)\n",
    "i=0\n",
    "time_divion=[]\n",
    "while i<=time_sec-step:\n",
    "    \n",
    "    time_divion.append(i)\n",
    "    i=i+step\n",
    "# the fourth second step\n",
    "four_sec_step_number = (4*len(time_divion))/time_sec\n",
    "print(four_sec_step_number)"
   ]
  },
  {
   "cell_type": "markdown",
   "metadata": {},
   "source": [
    "# Getting and labeling the data"
   ]
  },
  {
   "cell_type": "code",
   "execution_count": 5,
   "metadata": {},
   "outputs": [
    {
     "name": "stdout",
     "output_type": "stream",
     "text": [
      "['001 - Dog bark', '002 - Rain', '003 - Sea waves', '004 - Baby cry', '005 - Clock tick', '006 - Person sneeze', '007 - Helicopter', '008 - Chainsaw', '009 - Rooster', '010 - Fire crackling']\n",
      "the class = 001 - Dog bark, the label = 0\n",
      "the class = 002 - Rain, the label = 1\n",
      "the class = 003 - Sea waves, the label = 2\n",
      "the class = 004 - Baby cry, the label = 3\n",
      "the class = 005 - Clock tick, the label = 4\n",
      "the class = 006 - Person sneeze, the label = 5\n",
      "the class = 007 - Helicopter, the label = 6\n",
      "the class = 008 - Chainsaw, the label = 7\n",
      "the class = 009 - Rooster, the label = 8\n",
      "the class = 010 - Fire crackling, the label = 9\n",
      "0\n"
     ]
    }
   ],
   "source": [
    "classes = []\n",
    "label_number=0\n",
    "audio_data = []\n",
    "labels = []\n",
    "sampling_rate = []\n",
    "file_names = []\n",
    "data = []\n",
    "noisy_removed=[]\n",
    "noise=[]\n",
    "for filepath in glob.iglob('dataset/*'):\n",
    "    \n",
    "    #print(filepath[9:])\n",
    "    \n",
    "    #print(filepath)\n",
    "    classes.append(filepath[8:])\n",
    "\n",
    "print(classes)\n",
    "\n",
    "for i in classes:\n",
    "    print(\"the class = \"+i+\", the label = \"+str(label_number))\n",
    "    for j in glob.iglob('dataset/'+i+'/*'):\n",
    "        #samplerate, data = wavfile.read(j)\n",
    "        y, s = librosa.load(j, sr=44000) # Downsample 44.1kHz to 8kHz\n",
    "        #reduced_noise = nr.reduce_noise(audio_clip=y, noise_clip=y, verbose=False)\n",
    "        #print(s)\n",
    "        #print(j)\n",
    "        data.append([y,label_number])\n",
    "        #noise.append(y)\n",
    "        #labels.append(label_number)\n",
    "        \n",
    "    label_number = label_number + 1\n",
    "print(len(labels))\n",
    "#print(labels)\n",
    "\n"
   ]
  },
  {
   "cell_type": "code",
   "execution_count": 6,
   "metadata": {},
   "outputs": [
    {
     "data": {
      "text/plain": [
       "[array([0., 0., 0., ..., 0., 0., 0.], dtype=float32), 0]"
      ]
     },
     "execution_count": 6,
     "metadata": {},
     "output_type": "execute_result"
    }
   ],
   "source": [
    "data[0]"
   ]
  },
  {
   "cell_type": "markdown",
   "metadata": {},
   "source": [
    "# Shuffle the data"
   ]
  },
  {
   "cell_type": "code",
   "execution_count": 7,
   "metadata": {},
   "outputs": [],
   "source": [
    "import random\n",
    "\n",
    "random.shuffle(data)\n",
    "audio_data=[]\n",
    "labels=[]\n",
    "for i,j in data:\n",
    "    audio_data.append(i)\n",
    "    labels.append(j)\n",
    "    \n"
   ]
  },
  {
   "cell_type": "code",
   "execution_count": 8,
   "metadata": {},
   "outputs": [
    {
     "name": "stdout",
     "output_type": "stream",
     "text": [
      "5\n"
     ]
    }
   ],
   "source": [
    "print(labels[0])"
   ]
  },
  {
   "cell_type": "markdown",
   "metadata": {},
   "source": [
    "# Randomly select the data and producing mfcc spectogram"
   ]
  },
  {
   "cell_type": "code",
   "execution_count": 9,
   "metadata": {},
   "outputs": [
    {
     "name": "stdout",
     "output_type": "stream",
     "text": [
      "236\n",
      "(20, 430)\n",
      "3\n"
     ]
    }
   ],
   "source": [
    "example = random.randint(0,400)\n",
    "print(example)\n",
    "mfcc = librosa.feature.mfcc(y=audio_data[example])\n",
    "print(mfcc.shape)\n",
    "print(labels[example])"
   ]
  },
  {
   "cell_type": "code",
   "execution_count": 10,
   "metadata": {},
   "outputs": [
    {
     "data": {
      "text/plain": [
       "array([-502.38995 , -504.98056 , -509.505   , -513.6253  , -518.00916 ,\n",
       "       -511.5718  , -436.89908 , -345.6579  , -285.4577  , -255.55966 ,\n",
       "       -247.719   , -256.63303 , -282.5126  , -340.02142 , -412.90717 ,\n",
       "       -474.8361  , -497.90018 , -416.39423 , -282.1256  , -209.55008 ,\n",
       "       -181.22708 , -179.41444 , -196.66498 , -214.14792 , -211.10335 ,\n",
       "       -207.15228 , -212.06291 , -231.16626 , -238.7201  , -202.10371 ,\n",
       "       -180.28941 , -180.14868 , -186.41483 , -196.42924 , -209.39952 ,\n",
       "       -218.12906 , -199.68085 , -194.01212 , -196.4695  , -214.45093 ,\n",
       "       -216.56541 , -206.90102 , -210.6998  , -212.39824 , -219.25562 ,\n",
       "       -240.0864  , -217.67088 , -193.14122 , -176.81644 , -176.53838 ,\n",
       "       -184.99754 , -180.89883 , -195.78793 , -194.632   , -185.44537 ,\n",
       "       -187.76395 , -186.89845 , -185.39369 , -185.14711 , -201.97255 ,\n",
       "       -211.70334 , -208.01378 , -208.39987 , -206.45126 , -209.28746 ,\n",
       "       -205.9827  , -202.75238 , -188.90164 , -177.2369  , -177.30673 ,\n",
       "       -176.59099 , -173.06699 , -175.78206 , -172.90285 , -181.39679 ,\n",
       "       -180.66335 , -189.43819 , -187.33022 , -183.50426 , -186.26173 ,\n",
       "       -185.89946 , -190.99487 , -189.17686 , -191.2254  , -187.13727 ,\n",
       "       -177.28955 , -177.67128 , -164.933   , -161.44774 , -166.89467 ,\n",
       "       -171.78258 , -183.4952  , -186.23427 , -186.18639 , -178.00809 ,\n",
       "       -155.53629 , -127.20671 , -119.83143 , -135.58179 , -154.0772  ,\n",
       "       -159.284   , -160.35225 , -153.35323 , -140.4879  , -129.69983 ,\n",
       "        -98.214134,  -94.64646 , -107.74328 , -103.30056 , -104.92817 ,\n",
       "       -110.82839 , -111.873795, -124.87538 , -139.12009 , -132.34898 ,\n",
       "       -134.18503 , -134.53302 , -135.59167 , -136.0729  , -124.72593 ,\n",
       "       -116.28944 , -119.89193 , -120.86187 , -122.16655 , -118.5021  ,\n",
       "       -122.769966, -123.50797 , -116.24583 , -114.95258 , -122.33085 ,\n",
       "       -135.10172 , -134.23663 , -135.2669  , -144.2222  , -147.60768 ,\n",
       "       -147.87195 , -147.72641 , -152.2267  , -153.0363  , -152.58514 ,\n",
       "       -154.70966 , -150.78108 , -154.01263 , -158.90761 , -163.16486 ,\n",
       "       -170.05205 , -171.72336 , -158.14714 , -153.05351 , -165.63762 ,\n",
       "       -189.2451  , -214.142   , -250.45526 , -317.4317  , -399.96457 ,\n",
       "       -468.16147 , -479.92697 , -467.89615 , -450.2554  , -445.84213 ,\n",
       "       -447.92288 , -432.033   , -418.3965  , -408.61856 , -401.9648  ,\n",
       "       -403.79977 , -416.54077 , -429.6341  , -447.87817 , -468.59857 ,\n",
       "       -486.5685  , -490.24298 , -453.30264 , -441.8224  , -450.70557 ,\n",
       "       -467.67697 , -492.059   , -507.33594 , -513.6517  , -505.15164 ,\n",
       "       -475.67706 , -406.45624 , -334.1928  , -299.35263 , -308.45258 ,\n",
       "       -329.0013  , -328.36707 , -331.4824  , -358.21915 , -388.42725 ,\n",
       "       -427.30975 , -464.25525 , -492.68597 , -509.82343 , -496.46793 ,\n",
       "       -415.7005  , -340.76508 , -293.6114  , -277.93427 , -300.03342 ,\n",
       "       -352.23004 , -429.17938 , -439.81403 , -419.01056 , -433.46982 ,\n",
       "       -469.97327 , -497.52286 , -507.84784 , -512.87476 , -514.6504  ,\n",
       "       -464.62396 , -376.96762 , -329.15677 , -332.85364 , -349.8237  ,\n",
       "       -338.8385  , -312.8804  , -323.96017 , -392.7023  , -484.23257 ,\n",
       "       -507.66708 , -511.60815 , -514.04407 , -466.51862 , -309.57562 ,\n",
       "       -227.42296 , -197.8286  , -205.35886 , -213.41989 , -222.10931 ,\n",
       "       -241.05106 , -246.32874 , -262.10287 , -295.74878 , -309.80325 ,\n",
       "       -273.56754 , -249.02666 , -216.54825 , -207.25552 , -222.57741 ,\n",
       "       -228.49329 , -244.10205 , -258.77942 , -256.2332  , -255.54819 ,\n",
       "       -260.5059  , -283.00946 , -292.86188 , -299.56006 , -283.56375 ,\n",
       "       -257.0075  , -249.56107 , -245.8657  , -257.9679  , -274.1242  ,\n",
       "       -278.10315 , -277.028   , -285.44684 , -294.3781  , -300.75378 ,\n",
       "       -272.29398 , -255.26572 , -250.23332 , -242.67966 , -251.35143 ,\n",
       "       -288.78925 , -300.4566  , -300.54837 , -283.05066 , -251.90663 ,\n",
       "       -253.59181 , -266.92017 , -265.4854  , -267.11603 , -265.77115 ,\n",
       "       -253.97961 , -249.36623 , -244.63176 , -241.2919  , -247.5124  ,\n",
       "       -266.38928 , -274.96655 , -283.38358 , -291.30396 , -287.11612 ,\n",
       "       -288.8966  , -297.37985 , -293.19495 , -284.08963 , -281.94324 ,\n",
       "       -278.9157  , -278.45752 , -274.3928  , -273.70975 , -278.7037  ,\n",
       "       -275.7753  , -272.8441  , -269.0173  , -257.59485 , -239.11166 ,\n",
       "       -229.65546 , -218.0957  , -214.58194 , -213.73254 , -227.99463 ,\n",
       "       -248.2588  , -277.27505 , -298.14737 , -313.83102 , -318.93924 ,\n",
       "       -317.3575  , -299.71387 , -294.28162 , -294.98895 , -296.166   ,\n",
       "       -296.8349  , -301.20563 , -297.48984 , -281.67017 , -263.33972 ,\n",
       "       -250.1593  , -241.73712 , -240.31999 , -257.85992 , -274.1097  ,\n",
       "       -302.3797  , -306.34512 , -298.88144 , -285.49478 , -291.63766 ,\n",
       "       -276.99524 , -269.09558 , -254.4486  , -246.3319  , -259.89124 ,\n",
       "       -279.37567 , -288.82883 , -292.7382  , -294.60074 , -298.64877 ,\n",
       "       -308.78375 , -311.5817  , -312.8486  , -311.33267 , -311.6106  ,\n",
       "       -301.46292 , -294.40036 , -271.55298 , -242.57597 , -224.7759  ,\n",
       "       -222.72446 , -223.6683  , -228.55064 , -251.79774 , -276.0644  ,\n",
       "       -266.14215 , -244.00188 , -247.37425 , -263.00793 , -266.866   ,\n",
       "       -274.95966 , -286.83667 , -284.24014 , -253.81624 , -252.26875 ,\n",
       "       -267.60013 , -255.03778 , -259.2446  , -265.07547 , -259.092   ,\n",
       "       -236.88586 , -229.98206 , -226.08798 , -222.17828 , -212.09479 ,\n",
       "       -208.96075 , -223.04124 , -227.89403 , -233.43634 , -233.58757 ,\n",
       "       -240.52484 , -246.259   , -247.70778 , -250.03339 , -250.99165 ,\n",
       "       -254.7287  , -252.02266 , -249.38249 , -246.09834 , -246.53517 ,\n",
       "       -255.18982 , -257.04803 , -255.89253 , -260.7388  , -260.8089  ,\n",
       "       -275.20193 , -290.09982 , -296.902   , -307.14896 , -294.2342  ,\n",
       "       -289.62543 , -297.5421  , -300.18118 , -304.11346 , -323.59628 ,\n",
       "       -342.49594 , -353.13333 , -360.06454 , -363.4565  , -384.77402 ,\n",
       "       -415.25247 , -442.30884 , -476.78546 , -502.22803 , -513.61945 ,\n",
       "       -516.9322  , -518.64185 , -517.7061  , -517.5848  , -516.43427 ,\n",
       "       -514.4035  , -515.8107  , -514.16504 , -512.5971  , -516.80945 ,\n",
       "       -516.2013  , -515.2489  , -517.61176 , -517.60156 , -507.78207 ],\n",
       "      dtype=float32)"
      ]
     },
     "execution_count": 10,
     "metadata": {},
     "output_type": "execute_result"
    }
   ],
   "source": [
    "mfcc[0]"
   ]
  },
  {
   "cell_type": "code",
   "execution_count": 11,
   "metadata": {},
   "outputs": [
    {
     "data": {
      "text/plain": [
       "236"
      ]
     },
     "execution_count": 11,
     "metadata": {},
     "output_type": "execute_result"
    }
   ],
   "source": [
    "example"
   ]
  },
  {
   "cell_type": "code",
   "execution_count": 12,
   "metadata": {},
   "outputs": [
    {
     "data": {
      "text/plain": [
       "3"
      ]
     },
     "execution_count": 12,
     "metadata": {},
     "output_type": "execute_result"
    }
   ],
   "source": [
    "labels[example]"
   ]
  },
  {
   "cell_type": "code",
   "execution_count": 13,
   "metadata": {},
   "outputs": [
    {
     "data": {
      "text/plain": [
       "Text(0.5, 1.0, 'Mel Frequency Cepstral Coefficient of label3')"
      ]
     },
     "execution_count": 13,
     "metadata": {},
     "output_type": "execute_result"
    },
    {
     "data": {
      "image/png": "[encoded data removed]",
      "text/plain": [
       "<Figure size 432x288 with 2 Axes>"
      ]
     },
     "metadata": {
      "needs_background": "light"
     },
     "output_type": "display_data"
    }
   ],
   "source": [
    "\n",
    "save_path = 'Rooster.jpg'\n",
    "\n",
    "plt.axis('off') # no axis\n",
    "librosa.display.specshow(mfcc)\n",
    "plt.colorbar(format='%+2.0f dB')\n",
    "plt.title('Mel Frequency Cepstral Coefficient of label'+str(labels[example]))\n",
    "#pylab.savefig(save_path, bbox_inches=None, pad_inches=0)\n",
    "#pylab.close()"
   ]
  },
  {
   "cell_type": "markdown",
   "metadata": {},
   "source": [
    "# Getting all mfcc Features and take the data in a sample lenght and producing single row"
   ]
  },
  {
   "cell_type": "code",
   "execution_count": 14,
   "metadata": {},
   "outputs": [
    {
     "name": "stdout",
     "output_type": "stream",
     "text": [
      "0\n",
      "(8580, 1)\n",
      "(8580, 1)\n",
      "(8540, 1)\n",
      "100\n",
      "(8540, 1)\n",
      "(8580, 1)\n",
      "(8540, 1)\n",
      "(8540, 1)\n",
      "200\n",
      "300\n",
      "(8580, 1)\n"
     ]
    },
    {
     "data": {
      "text/plain": [
       "(399, 8540, 1)"
      ]
     },
     "execution_count": 14,
     "metadata": {},
     "output_type": "execute_result"
    }
   ],
   "source": [
    "mfcc = []\n",
    "for i in range (0,400):\n",
    "    if i%100 == 0:\n",
    "        print(i)\n",
    "    mf = librosa.feature.mfcc(y=audio_data[i])\n",
    "    \n",
    "    mf=mf.reshape(-1,1)\n",
    "    if mf.shape[0] == 6280:\n",
    "        labels.pop(i)\n",
    "        continue\n",
    "    else:\n",
    "        mfcc.append(mf[:8540])\n",
    "        \n",
    "    if mf.shape[0]<8600:\n",
    "        print(mf.shape)\n",
    "    \n",
    "mfcc =np.array(mfcc) \n",
    "mfcc.shape"
   ]
  },
  {
   "cell_type": "code",
   "execution_count": 15,
   "metadata": {},
   "outputs": [
    {
     "data": {
      "text/plain": [
       "(399, 8540)"
      ]
     },
     "execution_count": 15,
     "metadata": {},
     "output_type": "execute_result"
    }
   ],
   "source": [
    "mfcc=mfcc.reshape(399,-1)\n",
    "mfcc.shape"
   ]
  },
  {
   "cell_type": "markdown",
   "metadata": {},
   "source": [
    "# Scaling on mfcc features"
   ]
  },
  {
   "cell_type": "code",
   "execution_count": 16,
   "metadata": {},
   "outputs": [
    {
     "name": "stdout",
     "output_type": "stream",
     "text": [
      "303.66687\n",
      "1.0000001\n"
     ]
    }
   ],
   "source": [
    "from sklearn.preprocessing import MinMaxScaler\n",
    "data = mfcc\n",
    "scaler = MinMaxScaler(feature_range=(0, 1))\n",
    "scaler.fit(data)\n",
    "\n",
    "\n",
    "print(np.amax(mfcc))\n",
    "\n",
    "normalized_features = scaler.transform(data)\n",
    "print(np.amax(normalized_features))"
   ]
  },
  {
   "cell_type": "markdown",
   "metadata": {},
   "source": [
    "# Decision Tree"
   ]
  },
  {
   "cell_type": "code",
   "execution_count": 17,
   "metadata": {},
   "outputs": [
    {
     "data": {
      "text/plain": [
       "DecisionTreeClassifier()"
      ]
     },
     "execution_count": 17,
     "metadata": {},
     "output_type": "execute_result"
    }
   ],
   "source": [
    "from sklearn import tree\n",
    "X_train, X_test, y_train, y_test = train_test_split(normalized_features, labels, test_size=0.20, random_state=100)\n",
    "clf = tree.DecisionTreeClassifier()\n",
    "clf.fit(X_train, y_train)"
   ]
  },
  {
   "cell_type": "code",
   "execution_count": 18,
   "metadata": {},
   "outputs": [
    {
     "name": "stdout",
     "output_type": "stream",
     "text": [
      "0.3875\n"
     ]
    }
   ],
   "source": [
    "y_pred = clf.predict(X_test)\n",
    "print(accuracy_score(y_test, y_pred))"
   ]
  },
  {
   "cell_type": "markdown",
   "metadata": {},
   "source": [
    "# Sequential model"
   ]
  },
  {
   "cell_type": "code",
   "execution_count": 19,
   "metadata": {},
   "outputs": [],
   "source": [
    "features_convolution = np.reshape(normalized_features,(399,20, -1,1))"
   ]
  },
  {
   "cell_type": "code",
   "execution_count": 20,
   "metadata": {},
   "outputs": [
    {
     "data": {
      "text/plain": [
       "(399, 20, 427, 1)"
      ]
     },
     "execution_count": 20,
     "metadata": {},
     "output_type": "execute_result"
    }
   ],
   "source": [
    "features_convolution.shape"
   ]
  },
  {
   "cell_type": "code",
   "execution_count": 21,
   "metadata": {},
   "outputs": [],
   "source": [
    "y=keras.utils.to_categorical(labels, num_classes=10, dtype='float32')\n"
   ]
  },
  {
   "cell_type": "code",
   "execution_count": 22,
   "metadata": {},
   "outputs": [],
   "source": [
    "model = Sequential()\n",
    "\n",
    "model.add(Conv2D(16, (3, 3), input_shape=features_convolution.shape[1:]))\n",
    "model.add(Activation('relu'))\n",
    "model.add(MaxPooling2D(pool_size=(2, 2)))\n",
    "#'''\n",
    "#model.add(Dropout(0.2))\n",
    "\n",
    "model.add(Conv2D(32, (3, 3)))\n",
    "model.add(Activation('relu'))\n",
    "model.add(MaxPooling2D(pool_size=(2, 2)))\n",
    "\n",
    "model.add(Dropout(0.2))\n",
    "\n",
    "#'''\n",
    "#'''\n",
    "model.add(Conv2D(64, (3, 3),padding='same'))\n",
    "model.add(Activation('relu'))\n",
    "model.add(MaxPooling2D(pool_size=(2, 2)))\n",
    "#'''\n",
    "\n",
    "model.add(Flatten())  # this converts our 3D feature maps to 1D feature vectors\n",
    "\n",
    "#model.add(Dense(1000))#input_shape=features.shape[1:]\n",
    "model.add(Dense(64))#input_shape=features.shape[1:]\n",
    "\n",
    "model.add(Dense(10))\n",
    "model.add(Activation('softmax'))\n",
    "sgd = optimizers.SGD(lr=0.0000001, decay=1e-6, momentum=0.9, nesterov=True)\n",
    "model.add(Dropout(0.2))\n",
    "\n",
    "model.compile(loss='categorical_crossentropy',\n",
    "              optimizer='adam',\n",
    "              metrics=['accuracy'])"
   ]
  },
  {
   "cell_type": "code",
   "execution_count": 23,
   "metadata": {},
   "outputs": [
    {
     "name": "stdout",
     "output_type": "stream",
     "text": [
      "Epoch 1/80\n",
      "20/20 [==============================] - 8s 401ms/step - loss: 4.5568 - accuracy: 0.0815 - val_loss: 2.3018 - val_accuracy: 0.1750\n",
      "Epoch 2/80\n",
      "20/20 [==============================] - 9s 438ms/step - loss: 5.6866 - accuracy: 0.1254 - val_loss: 2.2788 - val_accuracy: 0.1500\n",
      "Epoch 3/80\n",
      "20/20 [==============================] - 9s 460ms/step - loss: 4.5130 - accuracy: 0.2006 - val_loss: 2.0709 - val_accuracy: 0.2625\n",
      "Epoch 4/80\n",
      "20/20 [==============================] - 10s 511ms/step - loss: 4.4176 - accuracy: 0.3386 - val_loss: 1.7734 - val_accuracy: 0.3375\n",
      "Epoch 5/80\n",
      "20/20 [==============================] - 12s 594ms/step - loss: 4.3009 - accuracy: 0.3605 - val_loss: 1.5652 - val_accuracy: 0.4250\n",
      "Epoch 6/80\n",
      "20/20 [==============================] - 11s 536ms/step - loss: 3.7121 - accuracy: 0.4828 - val_loss: 1.3114 - val_accuracy: 0.5375\n",
      "Epoch 7/80\n",
      "20/20 [==============================] - 11s 541ms/step - loss: 4.2092 - accuracy: 0.4734 - val_loss: 1.2757 - val_accuracy: 0.4875\n",
      "Epoch 8/80\n",
      "20/20 [==============================] - 10s 484ms/step - loss: 3.7324 - accuracy: 0.4577 - val_loss: 1.3287 - val_accuracy: 0.5250\n",
      "Epoch 9/80\n",
      "20/20 [==============================] - 10s 522ms/step - loss: 4.0566 - accuracy: 0.5204 - val_loss: 1.3459 - val_accuracy: 0.5875\n",
      "Epoch 10/80\n",
      "20/20 [==============================] - 10s 508ms/step - loss: 3.8342 - accuracy: 0.5580 - val_loss: 1.2246 - val_accuracy: 0.5750\n",
      "Epoch 11/80\n",
      "20/20 [==============================] - 10s 505ms/step - loss: 3.9596 - accuracy: 0.5956 - val_loss: 1.0669 - val_accuracy: 0.6125\n",
      "Epoch 12/80\n",
      "20/20 [==============================] - 10s 511ms/step - loss: 4.3340 - accuracy: 0.5737 - val_loss: 1.0822 - val_accuracy: 0.5500\n",
      "Epoch 13/80\n",
      "20/20 [==============================] - 11s 555ms/step - loss: 3.6103 - accuracy: 0.5925 - val_loss: 1.3726 - val_accuracy: 0.5125\n",
      "Epoch 14/80\n",
      "20/20 [==============================] - 10s 512ms/step - loss: 4.0367 - accuracy: 0.6113 - val_loss: 0.9528 - val_accuracy: 0.6000\n",
      "Epoch 15/80\n",
      "20/20 [==============================] - 10s 511ms/step - loss: 3.6485 - accuracy: 0.6677 - val_loss: 1.1050 - val_accuracy: 0.6250\n",
      "Epoch 16/80\n",
      "20/20 [==============================] - 11s 532ms/step - loss: 3.5919 - accuracy: 0.6834 - val_loss: 0.8861 - val_accuracy: 0.6375\n",
      "Epoch 17/80\n",
      "20/20 [==============================] - 12s 608ms/step - loss: 3.4417 - accuracy: 0.6991 - val_loss: 1.1075 - val_accuracy: 0.6125\n",
      "Epoch 18/80\n",
      "20/20 [==============================] - 10s 498ms/step - loss: 2.9935 - accuracy: 0.7304 - val_loss: 0.8578 - val_accuracy: 0.6250\n",
      "Epoch 19/80\n",
      "20/20 [==============================] - 11s 570ms/step - loss: 3.4314 - accuracy: 0.6834 - val_loss: 0.9182 - val_accuracy: 0.7000\n",
      "Epoch 20/80\n",
      "20/20 [==============================] - 11s 564ms/step - loss: 3.9289 - accuracy: 0.6928 - val_loss: 1.0604 - val_accuracy: 0.6500\n",
      "Epoch 21/80\n",
      "20/20 [==============================] - 11s 561ms/step - loss: 3.8899 - accuracy: 0.6803 - val_loss: 0.9830 - val_accuracy: 0.6750\n",
      "Epoch 22/80\n",
      "20/20 [==============================] - 11s 532ms/step - loss: 3.9144 - accuracy: 0.6740 - val_loss: 0.8805 - val_accuracy: 0.6500\n",
      "Epoch 23/80\n",
      "20/20 [==============================] - 14s 697ms/step - loss: 2.8363 - accuracy: 0.7868 - val_loss: 0.9224 - val_accuracy: 0.6750\n",
      "Epoch 24/80\n",
      "20/20 [==============================] - 11s 540ms/step - loss: 3.1799 - accuracy: 0.7492 - val_loss: 1.0049 - val_accuracy: 0.6750\n",
      "Epoch 25/80\n",
      "20/20 [==============================] - 11s 568ms/step - loss: 3.7641 - accuracy: 0.7147 - val_loss: 1.0470 - val_accuracy: 0.6625\n",
      "Epoch 26/80\n",
      "20/20 [==============================] - 10s 491ms/step - loss: 3.0717 - accuracy: 0.7429 - val_loss: 1.0407 - val_accuracy: 0.6250\n",
      "Epoch 27/80\n",
      "20/20 [==============================] - 10s 479ms/step - loss: 3.6158 - accuracy: 0.7179 - val_loss: 1.3298 - val_accuracy: 0.6125\n",
      "Epoch 28/80\n",
      "20/20 [==============================] - 10s 477ms/step - loss: 3.3233 - accuracy: 0.7555 - val_loss: 1.1672 - val_accuracy: 0.6625\n",
      "Epoch 29/80\n",
      "20/20 [==============================] - 10s 489ms/step - loss: 3.4247 - accuracy: 0.7712 - val_loss: 1.0142 - val_accuracy: 0.6875\n",
      "Epoch 30/80\n",
      "20/20 [==============================] - 11s 561ms/step - loss: 3.8343 - accuracy: 0.7273 - val_loss: 1.2037 - val_accuracy: 0.6875\n",
      "Epoch 31/80\n",
      "20/20 [==============================] - 11s 569ms/step - loss: 2.7159 - accuracy: 0.8119 - val_loss: 1.0958 - val_accuracy: 0.6625\n",
      "Epoch 32/80\n",
      "20/20 [==============================] - 11s 551ms/step - loss: 3.6509 - accuracy: 0.7649 - val_loss: 0.9586 - val_accuracy: 0.7000\n",
      "Epoch 33/80\n",
      "20/20 [==============================] - 10s 514ms/step - loss: 3.3631 - accuracy: 0.7712 - val_loss: 1.0232 - val_accuracy: 0.7375\n",
      "Epoch 34/80\n",
      "20/20 [==============================] - 11s 573ms/step - loss: 3.3547 - accuracy: 0.7774 - val_loss: 1.2231 - val_accuracy: 0.6750\n",
      "Epoch 35/80\n",
      "20/20 [==============================] - 11s 568ms/step - loss: 2.7601 - accuracy: 0.8276 - val_loss: 1.0370 - val_accuracy: 0.7375\n",
      "Epoch 36/80\n",
      "20/20 [==============================] - 11s 556ms/step - loss: 3.0150 - accuracy: 0.8088 - val_loss: 1.2124 - val_accuracy: 0.7000\n",
      "Epoch 37/80\n",
      "20/20 [==============================] - 11s 558ms/step - loss: 3.4298 - accuracy: 0.7743 - val_loss: 1.1000 - val_accuracy: 0.6750\n",
      "Epoch 38/80\n",
      "20/20 [==============================] - 11s 542ms/step - loss: 3.1243 - accuracy: 0.8025 - val_loss: 0.9727 - val_accuracy: 0.7625\n",
      "Epoch 39/80\n",
      "20/20 [==============================] - 12s 592ms/step - loss: 3.4880 - accuracy: 0.7680 - val_loss: 1.2267 - val_accuracy: 0.6625\n",
      "Epoch 40/80\n",
      "20/20 [==============================] - 13s 632ms/step - loss: 3.5113 - accuracy: 0.7837 - val_loss: 0.9836 - val_accuracy: 0.7250\n",
      "Epoch 41/80\n",
      "20/20 [==============================] - 11s 529ms/step - loss: 3.0037 - accuracy: 0.8088 - val_loss: 0.9702 - val_accuracy: 0.7000\n",
      "Epoch 42/80\n",
      "20/20 [==============================] - 10s 493ms/step - loss: 3.7914 - accuracy: 0.7555 - val_loss: 1.7855 - val_accuracy: 0.5625\n",
      "Epoch 43/80\n",
      "20/20 [==============================] - 10s 495ms/step - loss: 3.1944 - accuracy: 0.7900 - val_loss: 1.3858 - val_accuracy: 0.6375\n",
      "Epoch 44/80\n",
      "20/20 [==============================] - 14s 677ms/step - loss: 3.6717 - accuracy: 0.7680 - val_loss: 0.9834 - val_accuracy: 0.7000\n",
      "Epoch 45/80\n",
      "20/20 [==============================] - 11s 552ms/step - loss: 3.3636 - accuracy: 0.7868 - val_loss: 1.1143 - val_accuracy: 0.7125\n",
      "Epoch 46/80\n",
      "20/20 [==============================] - 10s 515ms/step - loss: 3.0543 - accuracy: 0.8056 - val_loss: 1.2175 - val_accuracy: 0.7375\n",
      "Epoch 47/80\n",
      "20/20 [==============================] - 12s 582ms/step - loss: 3.2982 - accuracy: 0.7962 - val_loss: 1.0562 - val_accuracy: 0.7125\n",
      "Epoch 48/80\n",
      "20/20 [==============================] - 11s 531ms/step - loss: 2.4965 - accuracy: 0.8464 - val_loss: 1.6068 - val_accuracy: 0.6375\n",
      "Epoch 49/80\n",
      "20/20 [==============================] - 11s 534ms/step - loss: 3.8211 - accuracy: 0.7398 - val_loss: 1.0780 - val_accuracy: 0.7125\n",
      "Epoch 50/80\n",
      "20/20 [==============================] - 11s 566ms/step - loss: 2.8744 - accuracy: 0.7868 - val_loss: 1.4155 - val_accuracy: 0.5875\n",
      "Epoch 51/80\n",
      "20/20 [==============================] - 11s 533ms/step - loss: 3.5250 - accuracy: 0.7492 - val_loss: 1.1945 - val_accuracy: 0.6750\n",
      "Epoch 52/80\n",
      "20/20 [==============================] - 10s 504ms/step - loss: 3.2506 - accuracy: 0.7837 - val_loss: 1.0513 - val_accuracy: 0.7000\n",
      "Epoch 53/80\n",
      "20/20 [==============================] - 11s 539ms/step - loss: 3.0834 - accuracy: 0.7962 - val_loss: 1.2551 - val_accuracy: 0.7250\n",
      "Epoch 54/80\n",
      "20/20 [==============================] - 10s 503ms/step - loss: 3.4808 - accuracy: 0.7806 - val_loss: 1.2259 - val_accuracy: 0.7125\n",
      "Epoch 55/80\n",
      "20/20 [==============================] - 10s 491ms/step - loss: 3.1331 - accuracy: 0.7837 - val_loss: 1.3497 - val_accuracy: 0.6500\n",
      "Epoch 56/80\n",
      "20/20 [==============================] - 10s 513ms/step - loss: 3.6657 - accuracy: 0.7461 - val_loss: 1.3466 - val_accuracy: 0.6625\n",
      "Epoch 57/80\n",
      "20/20 [==============================] - 10s 490ms/step - loss: 3.8204 - accuracy: 0.7524 - val_loss: 1.2839 - val_accuracy: 0.6500\n"
     ]
    },
    {
     "name": "stdout",
     "output_type": "stream",
     "text": [
      "Epoch 58/80\n",
      "20/20 [==============================] - 10s 496ms/step - loss: 3.1483 - accuracy: 0.8056 - val_loss: 1.1542 - val_accuracy: 0.7625\n",
      "Epoch 59/80\n",
      "20/20 [==============================] - 10s 503ms/step - loss: 3.0433 - accuracy: 0.8119 - val_loss: 1.2395 - val_accuracy: 0.7000\n",
      "Epoch 60/80\n",
      "20/20 [==============================] - 10s 482ms/step - loss: 3.2400 - accuracy: 0.7994 - val_loss: 1.1506 - val_accuracy: 0.7000\n",
      "Epoch 61/80\n",
      "20/20 [==============================] - 10s 482ms/step - loss: 3.1371 - accuracy: 0.8056 - val_loss: 1.1683 - val_accuracy: 0.7625\n",
      "Epoch 62/80\n",
      "20/20 [==============================] - 9s 474ms/step - loss: 3.3387 - accuracy: 0.7931 - val_loss: 1.2842 - val_accuracy: 0.7000\n",
      "Epoch 63/80\n",
      "20/20 [==============================] - 10s 487ms/step - loss: 3.0850 - accuracy: 0.8088 - val_loss: 1.1881 - val_accuracy: 0.7500\n",
      "Epoch 64/80\n",
      "20/20 [==============================] - 10s 486ms/step - loss: 3.9948 - accuracy: 0.7524 - val_loss: 1.2378 - val_accuracy: 0.7625\n",
      "Epoch 65/80\n",
      "20/20 [==============================] - 10s 491ms/step - loss: 3.0858 - accuracy: 0.8088 - val_loss: 1.2493 - val_accuracy: 0.7250\n",
      "Epoch 66/80\n",
      "20/20 [==============================] - 10s 490ms/step - loss: 3.2863 - accuracy: 0.7962 - val_loss: 1.3198 - val_accuracy: 0.7375\n",
      "Epoch 67/80\n",
      "20/20 [==============================] - 10s 486ms/step - loss: 3.4900 - accuracy: 0.7837 - val_loss: 1.2864 - val_accuracy: 0.7500\n",
      "Epoch 68/80\n",
      "20/20 [==============================] - 10s 496ms/step - loss: 3.3872 - accuracy: 0.7900 - val_loss: 1.2628 - val_accuracy: 0.7375\n",
      "Epoch 69/80\n",
      "20/20 [==============================] - 10s 519ms/step - loss: 3.2354 - accuracy: 0.7994 - val_loss: 1.2924 - val_accuracy: 0.7375\n",
      "Epoch 70/80\n",
      "20/20 [==============================] - 10s 507ms/step - loss: 3.1361 - accuracy: 0.8056 - val_loss: 1.2694 - val_accuracy: 0.7375\n",
      "Epoch 71/80\n",
      "20/20 [==============================] - 10s 476ms/step - loss: 3.1361 - accuracy: 0.8056 - val_loss: 1.3249 - val_accuracy: 0.7625\n",
      "Epoch 72/80\n",
      "20/20 [==============================] - 9s 475ms/step - loss: 3.2872 - accuracy: 0.7962 - val_loss: 1.3181 - val_accuracy: 0.7125\n",
      "Epoch 73/80\n",
      "20/20 [==============================] - 10s 484ms/step - loss: 3.0337 - accuracy: 0.8119 - val_loss: 1.2700 - val_accuracy: 0.7500\n",
      "Epoch 74/80\n",
      "20/20 [==============================] - 10s 504ms/step - loss: 3.5909 - accuracy: 0.7774 - val_loss: 1.3098 - val_accuracy: 0.6875\n",
      "Epoch 75/80\n",
      "20/20 [==============================] - 10s 493ms/step - loss: 3.1404 - accuracy: 0.8025 - val_loss: 1.4344 - val_accuracy: 0.7125\n",
      "Epoch 76/80\n",
      "20/20 [==============================] - 10s 483ms/step - loss: 3.6426 - accuracy: 0.7743 - val_loss: 1.4446 - val_accuracy: 0.7375\n",
      "Epoch 77/80\n",
      "20/20 [==============================] - 10s 482ms/step - loss: 3.6932 - accuracy: 0.7712 - val_loss: 1.2679 - val_accuracy: 0.7625\n",
      "Epoch 78/80\n",
      "20/20 [==============================] - 10s 493ms/step - loss: 3.2863 - accuracy: 0.7962 - val_loss: 1.3435 - val_accuracy: 0.7250\n",
      "Epoch 79/80\n",
      "20/20 [==============================] - 10s 492ms/step - loss: 3.5908 - accuracy: 0.7774 - val_loss: 1.3081 - val_accuracy: 0.7375\n",
      "Epoch 80/80\n",
      "20/20 [==============================] - 10s 481ms/step - loss: 3.1348 - accuracy: 0.8056 - val_loss: 1.3577 - val_accuracy: 0.7000\n"
     ]
    }
   ],
   "source": [
    "history = model.fit(features_convolution, y,batch_size=16, epochs=80,validation_split=0.2)"
   ]
  },
  {
   "cell_type": "code",
   "execution_count": 24,
   "metadata": {},
   "outputs": [
    {
     "data": {
      "image/png": "[encoded data removed]",
      "text/plain": [
       "<Figure size 432x288 with 1 Axes>"
      ]
     },
     "metadata": {
      "needs_background": "light"
     },
     "output_type": "display_data"
    },
    {
     "data": {
      "text/plain": [
       "<Figure size 432x288 with 0 Axes>"
      ]
     },
     "metadata": {},
     "output_type": "display_data"
    }
   ],
   "source": [
    "import matplotlib.pyplot as plt\n",
    "acc = history.history['accuracy']\n",
    "val_acc = history.history['val_accuracy']\n",
    "loss = history.history['loss']\n",
    "val_loss = history.history['val_loss']\n",
    "\n",
    "epochs = range(len(acc))\n",
    "\n",
    "plt.plot(epochs, acc, 'r', label='Training accuracy')\n",
    "plt.plot(epochs, val_acc, 'b', label='Validation accuracy')\n",
    "plt.title('Training and validation accuracy')\n",
    "plt.legend(loc=0)\n",
    "plt.figure()\n",
    "\n",
    "\n",
    "plt.show()"
   ]
  },
  {
   "cell_type": "markdown",
   "metadata": {},
   "source": [
    "# ICA "
   ]
  },
  {
   "cell_type": "code",
   "execution_count": 25,
   "metadata": {},
   "outputs": [],
   "source": [
    "from sklearn.decomposition import FastICA"
   ]
  },
  {
   "cell_type": "code",
   "execution_count": 26,
   "metadata": {},
   "outputs": [
    {
     "name": "stderr",
     "output_type": "stream",
     "text": [
      "C:\\Users\\Talha Khan\\anaconda3\\envs\\tensorflow\\lib\\site-packages\\sklearn\\decomposition\\_fastica.py:118: ConvergenceWarning: FastICA did not converge. Consider increasing tolerance or the maximum number of iterations.\n",
      "  warnings.warn('FastICA did not converge. Consider increasing '\n"
     ]
    }
   ],
   "source": [
    "X = mfcc\n",
    "ica = FastICA(n_components = 10)\n",
    "S_ = ica.fit_transform(X)  # Reconstruct signals\n",
    "A_ = ica.mixing_  # Get estimated mixing matrix\n"
   ]
  },
  {
   "cell_type": "code",
   "execution_count": 27,
   "metadata": {},
   "outputs": [
    {
     "name": "stdout",
     "output_type": "stream",
     "text": [
      "409.2430335489787\n",
      "1.0000000000000002\n"
     ]
    }
   ],
   "source": [
    "from sklearn.preprocessing import MinMaxScaler\n",
    "data = np.dot(S_,A_.T)\n",
    "scaler = MinMaxScaler(feature_range=(0, 1))\n",
    "scaler.fit(data)\n",
    "\n",
    "\n",
    "print(np.amax(data))\n",
    "\n",
    "normalized_ica_features = scaler.transform(data)\n",
    "print(np.amax(normalized_ica_features))"
   ]
  },
  {
   "cell_type": "markdown",
   "metadata": {},
   "source": [
    "# Sequential model on Ica Features"
   ]
  },
  {
   "cell_type": "code",
   "execution_count": 28,
   "metadata": {},
   "outputs": [
    {
     "data": {
      "text/plain": [
       "(399, 8540)"
      ]
     },
     "execution_count": 28,
     "metadata": {},
     "output_type": "execute_result"
    }
   ],
   "source": [
    "data.shape"
   ]
  },
  {
   "cell_type": "code",
   "execution_count": 29,
   "metadata": {},
   "outputs": [],
   "source": [
    "features_convolution = np.reshape(normalized_ica_features,(399,20, -1,1))"
   ]
  },
  {
   "cell_type": "code",
   "execution_count": 30,
   "metadata": {},
   "outputs": [],
   "source": [
    "model = Sequential()\n",
    "\n",
    "model.add(Conv2D(16, (3, 3), input_shape=features_convolution.shape[1:]))\n",
    "model.add(Activation('relu'))\n",
    "model.add(MaxPooling2D(pool_size=(2, 2)))\n",
    "#'''\n",
    "#model.add(Dropout(0.2))\n",
    "\n",
    "model.add(Conv2D(32, (3, 3)))\n",
    "model.add(Activation('relu'))\n",
    "model.add(MaxPooling2D(pool_size=(2, 2)))\n",
    "\n",
    "model.add(Dropout(0.2))\n",
    "\n",
    "#'''\n",
    "#'''\n",
    "model.add(Conv2D(64, (3, 3),padding='same'))\n",
    "model.add(Activation('relu'))\n",
    "model.add(MaxPooling2D(pool_size=(2, 2)))\n",
    "#'''\n",
    "\n",
    "\n",
    "model.add(Flatten())  # this converts our 3D feature maps to 1D feature vectors\n",
    "\n",
    "#model.add(Dense(1000))#input_shape=features.shape[1:]\n",
    "model.add(Dense(64))#input_shape=features.shape[1:]\n",
    "\n",
    "model.add(Dense(10))\n",
    "model.add(Activation('softmax'))\n",
    "sgd = optimizers.SGD(lr=0.0000001, decay=1e-6, momentum=0.9, nesterov=True)\n",
    "model.add(Dropout(0.2))\n",
    "\n",
    "model.compile(loss='categorical_crossentropy',\n",
    "              optimizer='adam',\n",
    "              metrics=['accuracy'])"
   ]
  },
  {
   "cell_type": "code",
   "execution_count": 31,
   "metadata": {},
   "outputs": [
    {
     "name": "stdout",
     "output_type": "stream",
     "text": [
      "Epoch 1/40\n",
      "20/20 [==============================] - 11s 541ms/step - loss: 5.3831 - accuracy: 0.0909 - val_loss: 2.2956 - val_accuracy: 0.1375\n",
      "Epoch 2/40\n",
      "20/20 [==============================] - 15s 742ms/step - loss: 4.4200 - accuracy: 0.1755 - val_loss: 2.1999 - val_accuracy: 0.2750\n",
      "Epoch 3/40\n",
      "20/20 [==============================] - 14s 682ms/step - loss: 5.2791 - accuracy: 0.2539 - val_loss: 1.9553 - val_accuracy: 0.2500\n",
      "Epoch 4/40\n",
      "20/20 [==============================] - 10s 492ms/step - loss: 4.1991 - accuracy: 0.3072 - val_loss: 1.5563 - val_accuracy: 0.4500\n",
      "Epoch 5/40\n",
      "20/20 [==============================] - 14s 683ms/step - loss: 4.0601 - accuracy: 0.3950 - val_loss: 1.4595 - val_accuracy: 0.3875\n",
      "Epoch 6/40\n",
      "20/20 [==============================] - 12s 586ms/step - loss: 4.0593 - accuracy: 0.4169 - val_loss: 1.4376 - val_accuracy: 0.4375\n",
      "Epoch 7/40\n",
      "20/20 [==============================] - 12s 607ms/step - loss: 4.2287 - accuracy: 0.4734 - val_loss: 1.3456 - val_accuracy: 0.4875\n",
      "Epoch 8/40\n",
      "20/20 [==============================] - 12s 615ms/step - loss: 4.2198 - accuracy: 0.4451 - val_loss: 1.3877 - val_accuracy: 0.4875\n",
      "Epoch 9/40\n",
      "20/20 [==============================] - 12s 597ms/step - loss: 3.8489 - accuracy: 0.5329 - val_loss: 1.2247 - val_accuracy: 0.5750\n",
      "Epoch 10/40\n",
      "20/20 [==============================] - 12s 612ms/step - loss: 4.4425 - accuracy: 0.5298 - val_loss: 1.0542 - val_accuracy: 0.6250\n",
      "Epoch 11/40\n",
      "20/20 [==============================] - 12s 616ms/step - loss: 4.0368 - accuracy: 0.5517 - val_loss: 1.2056 - val_accuracy: 0.5750\n",
      "Epoch 12/40\n",
      "20/20 [==============================] - 13s 630ms/step - loss: 3.5886 - accuracy: 0.6019 - val_loss: 1.2268 - val_accuracy: 0.6125\n",
      "Epoch 13/40\n",
      "20/20 [==============================] - 13s 656ms/step - loss: 3.2782 - accuracy: 0.6082 - val_loss: 1.2386 - val_accuracy: 0.5500\n",
      "Epoch 14/40\n",
      "20/20 [==============================] - 12s 615ms/step - loss: 3.3057 - accuracy: 0.5862 - val_loss: 1.0993 - val_accuracy: 0.6250\n",
      "Epoch 15/40\n",
      "20/20 [==============================] - 10s 489ms/step - loss: 3.9115 - accuracy: 0.6050 - val_loss: 1.1128 - val_accuracy: 0.6625\n",
      "Epoch 16/40\n",
      "20/20 [==============================] - 12s 593ms/step - loss: 4.0042 - accuracy: 0.5893 - val_loss: 1.0922 - val_accuracy: 0.6375\n",
      "Epoch 17/40\n",
      "20/20 [==============================] - 10s 487ms/step - loss: 3.9430 - accuracy: 0.5893 - val_loss: 1.2831 - val_accuracy: 0.5625\n",
      "Epoch 18/40\n",
      "20/20 [==============================] - 12s 585ms/step - loss: 3.5984 - accuracy: 0.6332 - val_loss: 1.1596 - val_accuracy: 0.5500\n",
      "Epoch 19/40\n",
      "20/20 [==============================] - 12s 577ms/step - loss: 3.9847 - accuracy: 0.6019 - val_loss: 0.9917 - val_accuracy: 0.6625\n",
      "Epoch 20/40\n",
      "20/20 [==============================] - 12s 602ms/step - loss: 3.7703 - accuracy: 0.6646 - val_loss: 1.0547 - val_accuracy: 0.6000\n",
      "Epoch 21/40\n",
      "20/20 [==============================] - 12s 599ms/step - loss: 2.9042 - accuracy: 0.6991 - val_loss: 1.0012 - val_accuracy: 0.6375\n",
      "Epoch 22/40\n",
      "20/20 [==============================] - 12s 622ms/step - loss: 4.0519 - accuracy: 0.6176 - val_loss: 1.1642 - val_accuracy: 0.5875\n",
      "Epoch 23/40\n",
      "20/20 [==============================] - 11s 572ms/step - loss: 3.4914 - accuracy: 0.6426 - val_loss: 1.0949 - val_accuracy: 0.6500\n",
      "Epoch 24/40\n",
      "20/20 [==============================] - 12s 602ms/step - loss: 4.0617 - accuracy: 0.6426 - val_loss: 1.1912 - val_accuracy: 0.6500\n",
      "Epoch 25/40\n",
      "20/20 [==============================] - 12s 582ms/step - loss: 3.3253 - accuracy: 0.6803 - val_loss: 1.2021 - val_accuracy: 0.6750\n",
      "Epoch 26/40\n",
      "20/20 [==============================] - 11s 538ms/step - loss: 3.8304 - accuracy: 0.6520 - val_loss: 1.1512 - val_accuracy: 0.6375\n",
      "Epoch 27/40\n",
      "20/20 [==============================] - 12s 590ms/step - loss: 3.5429 - accuracy: 0.6489 - val_loss: 1.1400 - val_accuracy: 0.6875\n",
      "Epoch 28/40\n",
      "20/20 [==============================] - 10s 525ms/step - loss: 4.0410 - accuracy: 0.6458 - val_loss: 1.2927 - val_accuracy: 0.6500\n",
      "Epoch 29/40\n",
      "20/20 [==============================] - 10s 520ms/step - loss: 3.8933 - accuracy: 0.6614 - val_loss: 1.3159 - val_accuracy: 0.6375\n",
      "Epoch 30/40\n",
      "20/20 [==============================] - 11s 559ms/step - loss: 3.4659 - accuracy: 0.6458 - val_loss: 1.1232 - val_accuracy: 0.7000\n",
      "Epoch 31/40\n",
      "20/20 [==============================] - 10s 511ms/step - loss: 2.9689 - accuracy: 0.6803 - val_loss: 1.1285 - val_accuracy: 0.7000\n",
      "Epoch 32/40\n",
      "20/20 [==============================] - 10s 515ms/step - loss: 3.0612 - accuracy: 0.7116 - val_loss: 1.2651 - val_accuracy: 0.6625\n",
      "Epoch 33/40\n",
      "20/20 [==============================] - 13s 641ms/step - loss: 3.3419 - accuracy: 0.7022 - val_loss: 1.2844 - val_accuracy: 0.6500\n",
      "Epoch 34/40\n",
      "20/20 [==============================] - 12s 603ms/step - loss: 3.5399 - accuracy: 0.6897 - val_loss: 1.1866 - val_accuracy: 0.7000\n",
      "Epoch 35/40\n",
      "20/20 [==============================] - 11s 538ms/step - loss: 2.8818 - accuracy: 0.7241 - val_loss: 1.2336 - val_accuracy: 0.7500\n",
      "Epoch 36/40\n",
      "20/20 [==============================] - 12s 587ms/step - loss: 3.1750 - accuracy: 0.6928 - val_loss: 1.3108 - val_accuracy: 0.6625\n",
      "Epoch 37/40\n",
      "20/20 [==============================] - 10s 513ms/step - loss: 3.2295 - accuracy: 0.6959 - val_loss: 1.2218 - val_accuracy: 0.6250\n",
      "Epoch 38/40\n",
      "20/20 [==============================] - 11s 559ms/step - loss: 4.2893 - accuracy: 0.6583 - val_loss: 1.2595 - val_accuracy: 0.6250\n",
      "Epoch 39/40\n",
      "20/20 [==============================] - 13s 660ms/step - loss: 3.5368 - accuracy: 0.6834 - val_loss: 1.3587 - val_accuracy: 0.6500\n",
      "Epoch 40/40\n",
      "20/20 [==============================] - 14s 698ms/step - loss: 3.2318 - accuracy: 0.6991 - val_loss: 1.1810 - val_accuracy: 0.7125\n"
     ]
    }
   ],
   "source": [
    "history = model.fit(features_convolution, y,batch_size=16, epochs=40,validation_split=0.2)"
   ]
  },
  {
   "cell_type": "code",
   "execution_count": 32,
   "metadata": {},
   "outputs": [
    {
     "data": {
      "image/png": "[encoded data removed]",
      "text/plain": [
       "<Figure size 432x288 with 1 Axes>"
      ]
     },
     "metadata": {
      "needs_background": "light"
     },
     "output_type": "display_data"
    },
    {
     "data": {
      "text/plain": [
       "<Figure size 432x288 with 0 Axes>"
      ]
     },
     "metadata": {},
     "output_type": "display_data"
    }
   ],
   "source": [
    "import matplotlib.pyplot as plt\n",
    "acc = history.history['accuracy']\n",
    "val_acc = history.history['val_accuracy']\n",
    "loss = history.history['loss']\n",
    "val_loss = history.history['val_loss']\n",
    "\n",
    "epochs = range(len(acc))\n",
    "\n",
    "plt.plot(epochs, acc, 'r', label='Training accuracy')\n",
    "plt.plot(epochs, val_acc, 'b', label='Validation accuracy')\n",
    "plt.title('Training and validation accuracy')\n",
    "plt.legend(loc=0)\n",
    "plt.figure()\n",
    "\n",
    "\n",
    "plt.show()"
   ]
  },
  {
   "cell_type": "code",
   "execution_count": 132,
   "metadata": {},
   "outputs": [],
   "source": [
    "model = Sequential()\n",
    "\n",
    "model.add(Conv2D(16, (3, 3), input_shape=features_convolution.shape[1:]))\n",
    "model.add(Activation('relu'))\n",
    "model.add(MaxPooling2D(pool_size=(2, 2)))\n",
    "#'''\n",
    "#model.add(Dropout(0.2))\n",
    "\n",
    "model.add(Conv2D(32, (3, 3)))\n",
    "model.add(Activation('relu'))\n",
    "model.add(MaxPooling2D(pool_size=(2, 2)))\n",
    "\n",
    "model.add(Dropout(0.2))\n",
    "\n",
    "#'''\n",
    "#'''\n",
    "model.add(Conv2D(64, (3, 3),padding='same'))\n",
    "model.add(Activation('relu'))\n",
    "model.add(MaxPooling2D(pool_size=(2, 2)))\n",
    "#'''\n",
    "\n",
    "\n",
    "model.add(Flatten())  # this converts our 3D feature maps to 1D feature vectors\n",
    "\n",
    "#model.add(Dense(1000))#input_shape=features.shape[1:]\n",
    "model.add(Dense(64))#input_shape=features.shape[1:]\n",
    "\n",
    "model.add(Dense(10))\n",
    "model.add(Activation('softmax'))\n",
    "sgd = optimizers.SGD(lr=0.0000001, decay=1e-6, momentum=0.9, nesterov=True)\n",
    "model.add(Dropout(0.2))\n",
    "\n",
    "model.compile(loss='categorical_crossentropy',\n",
    "              optimizer='adam',\n",
    "              metrics=['accuracy'])"
   ]
  },
  {
   "cell_type": "code",
   "execution_count": 133,
   "metadata": {},
   "outputs": [
    {
     "name": "stdout",
     "output_type": "stream",
     "text": [
      "Epoch 1/80\n",
      "20/20 [==============================] - 8s 419ms/step - loss: 4.9087 - accuracy: 0.1254 - val_loss: 2.2975 - val_accuracy: 0.1000\n",
      "Epoch 2/80\n",
      "20/20 [==============================] - 9s 439ms/step - loss: 5.2677 - accuracy: 0.1317 - val_loss: 2.2250 - val_accuracy: 0.2125\n",
      "Epoch 3/80\n",
      "20/20 [==============================] - 10s 485ms/step - loss: 4.5413 - accuracy: 0.1850 - val_loss: 2.0757 - val_accuracy: 0.1750\n",
      "Epoch 4/80\n",
      "20/20 [==============================] - 10s 508ms/step - loss: 4.7527 - accuracy: 0.2069 - val_loss: 2.1372 - val_accuracy: 0.2000\n",
      "Epoch 5/80\n",
      "20/20 [==============================] - 10s 512ms/step - loss: 4.3102 - accuracy: 0.2696 - val_loss: 1.9822 - val_accuracy: 0.2125\n",
      "Epoch 6/80\n",
      "20/20 [==============================] - 10s 505ms/step - loss: 4.4705 - accuracy: 0.2853 - val_loss: 2.0391 - val_accuracy: 0.2125\n",
      "Epoch 7/80\n",
      "20/20 [==============================] - 9s 464ms/step - loss: 4.4180 - accuracy: 0.3417 - val_loss: 1.7247 - val_accuracy: 0.4000\n",
      "Epoch 8/80\n",
      "20/20 [==============================] - 9s 452ms/step - loss: 4.1975 - accuracy: 0.4451 - val_loss: 1.4247 - val_accuracy: 0.5750\n",
      "Epoch 9/80\n",
      "20/20 [==============================] - 10s 512ms/step - loss: 3.7607 - accuracy: 0.4922 - val_loss: 1.3131 - val_accuracy: 0.5375\n",
      "Epoch 10/80\n",
      "20/20 [==============================] - 12s 594ms/step - loss: 4.3677 - accuracy: 0.5047 - val_loss: 1.2915 - val_accuracy: 0.5250\n",
      "Epoch 11/80\n",
      "20/20 [==============================] - 10s 509ms/step - loss: 3.7055 - accuracy: 0.5110 - val_loss: 1.3689 - val_accuracy: 0.5500\n",
      "Epoch 12/80\n",
      "20/20 [==============================] - 10s 489ms/step - loss: 3.4604 - accuracy: 0.5768 - val_loss: 1.1877 - val_accuracy: 0.5875\n",
      "Epoch 13/80\n",
      "20/20 [==============================] - 10s 507ms/step - loss: 3.3843 - accuracy: 0.6050 - val_loss: 1.3057 - val_accuracy: 0.5125\n",
      "Epoch 14/80\n",
      "20/20 [==============================] - 11s 539ms/step - loss: 4.2707 - accuracy: 0.5361 - val_loss: 1.0524 - val_accuracy: 0.6375\n",
      "Epoch 15/80\n",
      "20/20 [==============================] - 10s 518ms/step - loss: 3.7816 - accuracy: 0.6113 - val_loss: 1.1260 - val_accuracy: 0.6000\n",
      "Epoch 16/80\n",
      "20/20 [==============================] - 9s 469ms/step - loss: 3.4782 - accuracy: 0.6520 - val_loss: 1.1718 - val_accuracy: 0.6625\n",
      "Epoch 17/80\n",
      "20/20 [==============================] - 11s 533ms/step - loss: 4.0203 - accuracy: 0.5987 - val_loss: 1.0829 - val_accuracy: 0.6125\n",
      "Epoch 18/80\n",
      "20/20 [==============================] - 9s 471ms/step - loss: 3.4351 - accuracy: 0.6646 - val_loss: 1.1106 - val_accuracy: 0.6250\n",
      "Epoch 19/80\n",
      "20/20 [==============================] - 10s 496ms/step - loss: 3.7331 - accuracy: 0.6458 - val_loss: 1.0038 - val_accuracy: 0.6500\n",
      "Epoch 20/80\n",
      "20/20 [==============================] - 12s 614ms/step - loss: 3.5096 - accuracy: 0.6740 - val_loss: 0.9939 - val_accuracy: 0.6500\n",
      "Epoch 21/80\n",
      "20/20 [==============================] - 11s 557ms/step - loss: 3.1830 - accuracy: 0.6991 - val_loss: 1.0345 - val_accuracy: 0.6500\n",
      "Epoch 22/80\n",
      "20/20 [==============================] - 10s 499ms/step - loss: 3.5633 - accuracy: 0.6708 - val_loss: 1.0022 - val_accuracy: 0.6875\n",
      "Epoch 23/80\n",
      "20/20 [==============================] - 10s 489ms/step - loss: 3.6646 - accuracy: 0.6646 - val_loss: 1.1087 - val_accuracy: 0.5875\n",
      "Epoch 24/80\n",
      "20/20 [==============================] - 12s 586ms/step - loss: 3.2700 - accuracy: 0.6897 - val_loss: 1.0394 - val_accuracy: 0.6375\n",
      "Epoch 25/80\n",
      "20/20 [==============================] - 12s 589ms/step - loss: 3.1483 - accuracy: 0.7022 - val_loss: 1.1272 - val_accuracy: 0.5625\n",
      "Epoch 26/80\n",
      "20/20 [==============================] - 12s 586ms/step - loss: 3.5457 - accuracy: 0.6489 - val_loss: 0.9436 - val_accuracy: 0.6250\n",
      "Epoch 27/80\n",
      "20/20 [==============================] - 10s 518ms/step - loss: 2.7341 - accuracy: 0.7367 - val_loss: 1.1171 - val_accuracy: 0.6000\n",
      "Epoch 28/80\n",
      "20/20 [==============================] - 12s 604ms/step - loss: 3.3704 - accuracy: 0.7116 - val_loss: 0.9910 - val_accuracy: 0.6750\n",
      "Epoch 29/80\n",
      "20/20 [==============================] - 11s 561ms/step - loss: 3.7563 - accuracy: 0.6991 - val_loss: 0.9326 - val_accuracy: 0.6625\n",
      "Epoch 30/80\n",
      "20/20 [==============================] - 10s 512ms/step - loss: 3.6516 - accuracy: 0.7053 - val_loss: 0.9241 - val_accuracy: 0.6875\n",
      "Epoch 31/80\n",
      "20/20 [==============================] - 12s 586ms/step - loss: 3.4247 - accuracy: 0.7461 - val_loss: 0.9010 - val_accuracy: 0.7125\n",
      "Epoch 32/80\n",
      "20/20 [==============================] - 11s 543ms/step - loss: 3.7825 - accuracy: 0.7085 - val_loss: 0.9454 - val_accuracy: 0.6750\n",
      "Epoch 33/80\n",
      "20/20 [==============================] - 10s 524ms/step - loss: 3.5222 - accuracy: 0.7147 - val_loss: 0.8032 - val_accuracy: 0.7000\n",
      "Epoch 34/80\n",
      "20/20 [==============================] - 11s 532ms/step - loss: 3.1040 - accuracy: 0.7492 - val_loss: 0.9853 - val_accuracy: 0.6625\n",
      "Epoch 35/80\n",
      "20/20 [==============================] - 10s 502ms/step - loss: 4.0915 - accuracy: 0.6991 - val_loss: 0.8674 - val_accuracy: 0.7000\n",
      "Epoch 36/80\n",
      "20/20 [==============================] - 10s 511ms/step - loss: 4.4117 - accuracy: 0.6803 - val_loss: 0.8138 - val_accuracy: 0.6625\n",
      "Epoch 37/80\n",
      "20/20 [==============================] - 10s 498ms/step - loss: 3.4653 - accuracy: 0.7241 - val_loss: 0.9504 - val_accuracy: 0.6500\n",
      "Epoch 38/80\n",
      "20/20 [==============================] - 10s 510ms/step - loss: 3.3584 - accuracy: 0.7304 - val_loss: 0.8535 - val_accuracy: 0.7125\n",
      "Epoch 39/80\n",
      "20/20 [==============================] - 10s 494ms/step - loss: 3.9040 - accuracy: 0.7335 - val_loss: 0.9166 - val_accuracy: 0.7250\n",
      "Epoch 40/80\n",
      "20/20 [==============================] - 10s 491ms/step - loss: 3.5570 - accuracy: 0.7367 - val_loss: 0.8755 - val_accuracy: 0.6750\n",
      "Epoch 41/80\n",
      "20/20 [==============================] - 11s 559ms/step - loss: 3.5768 - accuracy: 0.7241 - val_loss: 0.8094 - val_accuracy: 0.7500\n",
      "Epoch 42/80\n",
      "20/20 [==============================] - 11s 545ms/step - loss: 3.8630 - accuracy: 0.7210 - val_loss: 0.8936 - val_accuracy: 0.7125\n",
      "Epoch 43/80\n",
      "20/20 [==============================] - 11s 528ms/step - loss: 3.2401 - accuracy: 0.7273 - val_loss: 0.9721 - val_accuracy: 0.7125\n",
      "Epoch 44/80\n",
      "20/20 [==============================] - 11s 558ms/step - loss: 3.6379 - accuracy: 0.7241 - val_loss: 0.8440 - val_accuracy: 0.7375\n",
      "Epoch 45/80\n",
      "20/20 [==============================] - 11s 531ms/step - loss: 3.3862 - accuracy: 0.7618 - val_loss: 0.8808 - val_accuracy: 0.7000\n",
      "Epoch 46/80\n",
      "20/20 [==============================] - 10s 515ms/step - loss: 2.6082 - accuracy: 0.8056 - val_loss: 0.9111 - val_accuracy: 0.7250\n",
      "Epoch 47/80\n",
      "20/20 [==============================] - 13s 647ms/step - loss: 3.4884 - accuracy: 0.7618 - val_loss: 0.8837 - val_accuracy: 0.7500\n",
      "Epoch 48/80\n",
      "20/20 [==============================] - 12s 592ms/step - loss: 3.3759 - accuracy: 0.7649 - val_loss: 0.8740 - val_accuracy: 0.7500\n",
      "Epoch 49/80\n",
      "20/20 [==============================] - 13s 662ms/step - loss: 4.2486 - accuracy: 0.7241 - val_loss: 0.9533 - val_accuracy: 0.7250\n",
      "Epoch 50/80\n",
      "20/20 [==============================] - 14s 698ms/step - loss: 3.5200 - accuracy: 0.7586 - val_loss: 0.9403 - val_accuracy: 0.7125\n",
      "Epoch 51/80\n",
      "20/20 [==============================] - 14s 703ms/step - loss: 4.0067 - accuracy: 0.7398 - val_loss: 0.8882 - val_accuracy: 0.7500\n",
      "Epoch 52/80\n",
      "20/20 [==============================] - 13s 667ms/step - loss: 3.3404 - accuracy: 0.7806 - val_loss: 0.8773 - val_accuracy: 0.7000\n",
      "Epoch 53/80\n",
      "20/20 [==============================] - 12s 604ms/step - loss: 3.1485 - accuracy: 0.7962 - val_loss: 1.1822 - val_accuracy: 0.7125\n",
      "Epoch 54/80\n",
      "20/20 [==============================] - 13s 637ms/step - loss: 3.6186 - accuracy: 0.7555 - val_loss: 1.0496 - val_accuracy: 0.7250\n",
      "Epoch 55/80\n",
      "20/20 [==============================] - 11s 566ms/step - loss: 2.6248 - accuracy: 0.8150 - val_loss: 0.8708 - val_accuracy: 0.6875\n",
      "Epoch 56/80\n",
      "20/20 [==============================] - 10s 518ms/step - loss: 3.1321 - accuracy: 0.7774 - val_loss: 0.8259 - val_accuracy: 0.7500\n",
      "Epoch 57/80\n",
      "20/20 [==============================] - 10s 514ms/step - loss: 3.4846 - accuracy: 0.7524 - val_loss: 1.0950 - val_accuracy: 0.7000\n"
     ]
    },
    {
     "name": "stdout",
     "output_type": "stream",
     "text": [
      "Epoch 58/80\n",
      "20/20 [==============================] - 11s 536ms/step - loss: 3.4803 - accuracy: 0.7367 - val_loss: 0.9927 - val_accuracy: 0.7000\n",
      "Epoch 59/80\n",
      "20/20 [==============================] - 11s 534ms/step - loss: 2.9468 - accuracy: 0.7837 - val_loss: 0.8214 - val_accuracy: 0.7500\n",
      "Epoch 60/80\n",
      "20/20 [==============================] - 10s 517ms/step - loss: 3.8439 - accuracy: 0.7461 - val_loss: 1.0000 - val_accuracy: 0.7000\n",
      "Epoch 61/80\n",
      "20/20 [==============================] - 10s 514ms/step - loss: 3.4181 - accuracy: 0.7680 - val_loss: 0.9909 - val_accuracy: 0.7500\n",
      "Epoch 62/80\n",
      "20/20 [==============================] - 12s 586ms/step - loss: 2.8953 - accuracy: 0.7962 - val_loss: 0.9558 - val_accuracy: 0.7000\n",
      "Epoch 63/80\n",
      "20/20 [==============================] - 10s 512ms/step - loss: 3.8255 - accuracy: 0.7398 - val_loss: 0.8607 - val_accuracy: 0.7000\n",
      "Epoch 64/80\n",
      "20/20 [==============================] - 13s 633ms/step - loss: 2.6621 - accuracy: 0.8119 - val_loss: 0.8442 - val_accuracy: 0.7500\n",
      "Epoch 65/80\n",
      "20/20 [==============================] - 11s 560ms/step - loss: 3.3813 - accuracy: 0.7806 - val_loss: 0.9372 - val_accuracy: 0.7250\n",
      "Epoch 66/80\n",
      "20/20 [==============================] - 11s 561ms/step - loss: 2.9437 - accuracy: 0.7962 - val_loss: 0.8846 - val_accuracy: 0.7250\n",
      "Epoch 67/80\n",
      "20/20 [==============================] - 10s 519ms/step - loss: 3.5355 - accuracy: 0.7680 - val_loss: 0.9515 - val_accuracy: 0.7500\n",
      "Epoch 68/80\n",
      "20/20 [==============================] - 11s 528ms/step - loss: 3.1382 - accuracy: 0.7868 - val_loss: 0.8728 - val_accuracy: 0.7125\n",
      "Epoch 69/80\n",
      "20/20 [==============================] - 10s 508ms/step - loss: 3.8762 - accuracy: 0.7524 - val_loss: 0.8814 - val_accuracy: 0.7125\n",
      "Epoch 70/80\n",
      "20/20 [==============================] - 10s 498ms/step - loss: 3.3684 - accuracy: 0.7868 - val_loss: 0.8654 - val_accuracy: 0.7125\n",
      "Epoch 71/80\n",
      "20/20 [==============================] - 12s 622ms/step - loss: 3.1098 - accuracy: 0.8025 - val_loss: 0.9825 - val_accuracy: 0.7250\n",
      "Epoch 72/80\n",
      "20/20 [==============================] - 13s 665ms/step - loss: 3.3252 - accuracy: 0.7868 - val_loss: 1.0999 - val_accuracy: 0.7125\n",
      "Epoch 73/80\n",
      "20/20 [==============================] - 11s 570ms/step - loss: 2.9139 - accuracy: 0.7806 - val_loss: 1.0398 - val_accuracy: 0.7375\n",
      "Epoch 74/80\n",
      "20/20 [==============================] - 11s 546ms/step - loss: 3.1789 - accuracy: 0.7900 - val_loss: 0.9144 - val_accuracy: 0.7250\n",
      "Epoch 75/80\n",
      "20/20 [==============================] - 10s 521ms/step - loss: 2.8237 - accuracy: 0.8150 - val_loss: 1.0161 - val_accuracy: 0.6875\n",
      "Epoch 76/80\n",
      "20/20 [==============================] - 10s 504ms/step - loss: 3.1250 - accuracy: 0.7900 - val_loss: 0.8841 - val_accuracy: 0.7500\n",
      "Epoch 77/80\n",
      "20/20 [==============================] - 10s 505ms/step - loss: 2.8072 - accuracy: 0.8213 - val_loss: 0.9211 - val_accuracy: 0.7125\n",
      "Epoch 78/80\n",
      "20/20 [==============================] - 12s 598ms/step - loss: 3.4001 - accuracy: 0.7868 - val_loss: 0.9571 - val_accuracy: 0.7500\n",
      "Epoch 79/80\n",
      "20/20 [==============================] - 11s 561ms/step - loss: 3.7156 - accuracy: 0.7618 - val_loss: 0.9556 - val_accuracy: 0.7375\n",
      "Epoch 80/80\n",
      "20/20 [==============================] - 11s 533ms/step - loss: 3.5517 - accuracy: 0.7774 - val_loss: 0.9741 - val_accuracy: 0.7250\n"
     ]
    }
   ],
   "source": [
    "history = model.fit(features_convolution, y,batch_size=16, epochs=80,validation_split=0.2)"
   ]
  },
  {
   "cell_type": "code",
   "execution_count": 134,
   "metadata": {},
   "outputs": [
    {
     "data": {
      "image/png": "[encoded data removed]",
      "text/plain": [
       "<Figure size 432x288 with 1 Axes>"
      ]
     },
     "metadata": {
      "needs_background": "light"
     },
     "output_type": "display_data"
    },
    {
     "data": {
      "text/plain": [
       "<Figure size 432x288 with 0 Axes>"
      ]
     },
     "metadata": {},
     "output_type": "display_data"
    }
   ],
   "source": [
    "import matplotlib.pyplot as plt\n",
    "acc = history.history['accuracy']\n",
    "val_acc = history.history['val_accuracy']\n",
    "loss = history.history['loss']\n",
    "val_loss = history.history['val_loss']\n",
    "\n",
    "epochs = range(len(acc))\n",
    "\n",
    "plt.plot(epochs, acc, 'r', label='Training accuracy')\n",
    "plt.plot(epochs, val_acc, 'b', label='Validation accuracy')\n",
    "plt.title('Training and validation accuracy')\n",
    "plt.legend(loc=0)\n",
    "plt.figure()\n",
    "\n",
    "\n",
    "plt.show()"
   ]
  },
  {
   "cell_type": "code",
   "execution_count": 109,
   "metadata": {},
   "outputs": [],
   "source": [
    "X = mfcc\n",
    "ica = FastICA(n_components = 100)\n",
    "S_ = ica.fit_transform(X)  # Reconstruct signals\n",
    "A_ = ica.mixing_  # Get estimated mixing matrix\n"
   ]
  },
  {
   "cell_type": "code",
   "execution_count": 110,
   "metadata": {},
   "outputs": [
    {
     "name": "stdout",
     "output_type": "stream",
     "text": [
      "516.1238054950188\n",
      "1.0000000000000002\n"
     ]
    }
   ],
   "source": [
    "from sklearn.preprocessing import MinMaxScaler\n",
    "data = np.dot(S_,A_.T)\n",
    "scaler = MinMaxScaler(feature_range=(0, 1))\n",
    "scaler.fit(data)\n",
    "\n",
    "\n",
    "print(np.amax(data))\n",
    "\n",
    "normalized_ica_features = scaler.transform(data)\n",
    "print(np.amax(normalized_ica_features))"
   ]
  },
  {
   "cell_type": "code",
   "execution_count": 111,
   "metadata": {},
   "outputs": [],
   "source": [
    "features_convolution = np.reshape(normalized_ica_features,(399,20, -1,1))"
   ]
  },
  {
   "cell_type": "code",
   "execution_count": 145,
   "metadata": {},
   "outputs": [],
   "source": [
    "\n",
    "model2 = Sequential()\n",
    "model.add(Conv2D(16, (3, 3), input_shape=features_convolution.shape[1:]))\n",
    "model.add(Activation('relu'))\n",
    "model.add(MaxPooling2D(pool_size=(2, 2)))\n",
    "#'''\n",
    "#model.add(Dropout(0.2))\n",
    "\n",
    "model.add(Conv2D(32, (3, 3)))\n",
    "model.add(Activation('relu'))\n",
    "model.add(MaxPooling2D(pool_size=(2, 2)))\n",
    "\n",
    "model.add(Dropout(0.2))\n",
    "\n",
    "#'''\n",
    "#'''\n",
    "model.add(Conv2D(64, (3, 3),padding='same'))\n",
    "model.add(Activation('relu'))\n",
    "model.add(MaxPooling2D(pool_size=(2, 2)))\n",
    "#'''\n",
    "model.add(Activation('softsign'))\n",
    "\n",
    "\n",
    "model.add(Flatten())  # this converts our 3D feature maps to 1D feature vectors\n",
    "\n",
    "model.add(Dense(1000))#input_shape=features.shape[1:]\n",
    "model.add(Dense(64))#input_shape=features.shape[1:]\n",
    "\n",
    "model.add(Dense(10))\n",
    "model.add(Activation('softmax'))\n",
    "sgd = optimizers.SGD(lr=0.0000001, decay=1e-6, momentum=0.9, nesterov=True)\n",
    "model.add(Dropout(0.2))\n",
    "\n",
    "model.compile(loss='categorical_crossentropy',\n",
    "optimizer='adam',\n",
    "metrics=['accuracy'])"
   ]
  },
  {
   "cell_type": "code",
   "execution_count": 113,
   "metadata": {},
   "outputs": [
    {
     "name": "stdout",
     "output_type": "stream",
     "text": [
      "Epoch 1/80\n",
      "20/20 [==============================] - 10s 509ms/step - loss: 5.0237 - accuracy: 0.1097 - val_loss: 2.2817 - val_accuracy: 0.1000\n",
      "Epoch 2/80\n",
      "20/20 [==============================] - 11s 546ms/step - loss: 4.5971 - accuracy: 0.1317 - val_loss: 2.2105 - val_accuracy: 0.1500\n",
      "Epoch 3/80\n",
      "20/20 [==============================] - 11s 562ms/step - loss: 5.3972 - accuracy: 0.1630 - val_loss: 2.1618 - val_accuracy: 0.1125\n",
      "Epoch 4/80\n",
      "20/20 [==============================] - 11s 574ms/step - loss: 4.7664 - accuracy: 0.2038 - val_loss: 2.1103 - val_accuracy: 0.1500\n",
      "Epoch 5/80\n",
      "20/20 [==============================] - 12s 581ms/step - loss: 4.7146 - accuracy: 0.2633 - val_loss: 1.9158 - val_accuracy: 0.3375\n",
      "Epoch 6/80\n",
      "20/20 [==============================] - 12s 595ms/step - loss: 4.3527 - accuracy: 0.3323 - val_loss: 1.8128 - val_accuracy: 0.3750\n",
      "Epoch 7/80\n",
      "20/20 [==============================] - 12s 594ms/step - loss: 4.5099 - accuracy: 0.3887 - val_loss: 1.5276 - val_accuracy: 0.3750\n",
      "Epoch 8/80\n",
      "20/20 [==============================] - 12s 600ms/step - loss: 3.2496 - accuracy: 0.4263 - val_loss: 1.5345 - val_accuracy: 0.4000\n",
      "Epoch 9/80\n",
      "20/20 [==============================] - 12s 612ms/step - loss: 4.8501 - accuracy: 0.4169 - val_loss: 1.3151 - val_accuracy: 0.6500\n",
      "Epoch 10/80\n",
      "20/20 [==============================] - 12s 610ms/step - loss: 3.5887 - accuracy: 0.4922 - val_loss: 1.3790 - val_accuracy: 0.4500\n",
      "Epoch 11/80\n",
      "20/20 [==============================] - 12s 625ms/step - loss: 4.0036 - accuracy: 0.4953 - val_loss: 1.1297 - val_accuracy: 0.5750\n",
      "Epoch 12/80\n",
      "20/20 [==============================] - 13s 641ms/step - loss: 4.3405 - accuracy: 0.5423 - val_loss: 1.1669 - val_accuracy: 0.6500\n",
      "Epoch 13/80\n",
      "20/20 [==============================] - 13s 640ms/step - loss: 3.5927 - accuracy: 0.5737 - val_loss: 1.1349 - val_accuracy: 0.5750\n",
      "Epoch 14/80\n",
      "20/20 [==============================] - 13s 644ms/step - loss: 4.0499 - accuracy: 0.5486 - val_loss: 1.4896 - val_accuracy: 0.4875\n",
      "Epoch 15/80\n",
      "20/20 [==============================] - 13s 636ms/step - loss: 3.9326 - accuracy: 0.5423 - val_loss: 1.1839 - val_accuracy: 0.6000\n",
      "Epoch 16/80\n",
      "20/20 [==============================] - 13s 657ms/step - loss: 3.3269 - accuracy: 0.6395 - val_loss: 0.9889 - val_accuracy: 0.6250\n",
      "Epoch 17/80\n",
      "20/20 [==============================] - 13s 644ms/step - loss: 4.5091 - accuracy: 0.5987 - val_loss: 1.2129 - val_accuracy: 0.5625\n",
      "Epoch 18/80\n",
      "20/20 [==============================] - 13s 646ms/step - loss: 3.6796 - accuracy: 0.6646 - val_loss: 1.1811 - val_accuracy: 0.6000\n",
      "Epoch 19/80\n",
      "20/20 [==============================] - 13s 650ms/step - loss: 3.2660 - accuracy: 0.6583 - val_loss: 1.0151 - val_accuracy: 0.7000\n",
      "Epoch 20/80\n",
      "20/20 [==============================] - 13s 669ms/step - loss: 3.7475 - accuracy: 0.6614 - val_loss: 1.2269 - val_accuracy: 0.5500\n",
      "Epoch 21/80\n",
      "20/20 [==============================] - 13s 657ms/step - loss: 3.0741 - accuracy: 0.6897 - val_loss: 1.0835 - val_accuracy: 0.5750\n",
      "Epoch 22/80\n",
      "20/20 [==============================] - 13s 664ms/step - loss: 3.2792 - accuracy: 0.7210 - val_loss: 1.4259 - val_accuracy: 0.6375\n",
      "Epoch 23/80\n",
      "20/20 [==============================] - 13s 651ms/step - loss: 3.2357 - accuracy: 0.7085 - val_loss: 0.9798 - val_accuracy: 0.6250\n",
      "Epoch 24/80\n",
      "20/20 [==============================] - 13s 660ms/step - loss: 3.7517 - accuracy: 0.7116 - val_loss: 1.1532 - val_accuracy: 0.7125\n",
      "Epoch 25/80\n",
      "20/20 [==============================] - 13s 670ms/step - loss: 3.4091 - accuracy: 0.7210 - val_loss: 0.9149 - val_accuracy: 0.7125\n",
      "Epoch 26/80\n",
      "20/20 [==============================] - 13s 659ms/step - loss: 2.9714 - accuracy: 0.7524 - val_loss: 0.9413 - val_accuracy: 0.6875\n",
      "Epoch 27/80\n",
      "20/20 [==============================] - 13s 657ms/step - loss: 3.5687 - accuracy: 0.7241 - val_loss: 0.9706 - val_accuracy: 0.6250\n",
      "Epoch 28/80\n",
      "20/20 [==============================] - 13s 660ms/step - loss: 2.3832 - accuracy: 0.7931 - val_loss: 0.9855 - val_accuracy: 0.7250\n",
      "Epoch 29/80\n",
      "20/20 [==============================] - 14s 678ms/step - loss: 3.2846 - accuracy: 0.6991 - val_loss: 1.3068 - val_accuracy: 0.5500\n",
      "Epoch 30/80\n",
      "20/20 [==============================] - 13s 667ms/step - loss: 2.9992 - accuracy: 0.7367 - val_loss: 0.9565 - val_accuracy: 0.7125\n",
      "Epoch 31/80\n",
      "20/20 [==============================] - 13s 670ms/step - loss: 3.3333 - accuracy: 0.7398 - val_loss: 1.3030 - val_accuracy: 0.5625\n",
      "Epoch 32/80\n",
      "20/20 [==============================] - 13s 658ms/step - loss: 3.0523 - accuracy: 0.7492 - val_loss: 0.9553 - val_accuracy: 0.6875\n",
      "Epoch 33/80\n",
      "20/20 [==============================] - 13s 671ms/step - loss: 3.1572 - accuracy: 0.7680 - val_loss: 1.0314 - val_accuracy: 0.6875\n",
      "Epoch 34/80\n",
      "20/20 [==============================] - 13s 659ms/step - loss: 2.4084 - accuracy: 0.8307 - val_loss: 1.2909 - val_accuracy: 0.6250\n",
      "Epoch 35/80\n",
      "20/20 [==============================] - 13s 672ms/step - loss: 3.6563 - accuracy: 0.6834 - val_loss: 1.2745 - val_accuracy: 0.6375\n",
      "Epoch 36/80\n",
      "20/20 [==============================] - 13s 668ms/step - loss: 4.2392 - accuracy: 0.6771 - val_loss: 0.9732 - val_accuracy: 0.7500\n",
      "Epoch 37/80\n",
      "20/20 [==============================] - 13s 664ms/step - loss: 3.6406 - accuracy: 0.7273 - val_loss: 1.3036 - val_accuracy: 0.6250\n",
      "Epoch 38/80\n",
      "20/20 [==============================] - 13s 663ms/step - loss: 3.1939 - accuracy: 0.7649 - val_loss: 1.1870 - val_accuracy: 0.6875\n",
      "Epoch 39/80\n",
      "20/20 [==============================] - 13s 664ms/step - loss: 3.6875 - accuracy: 0.7524 - val_loss: 1.0681 - val_accuracy: 0.6625\n",
      "Epoch 40/80\n",
      "20/20 [==============================] - 13s 658ms/step - loss: 3.3964 - accuracy: 0.7461 - val_loss: 1.1784 - val_accuracy: 0.7250\n",
      "Epoch 41/80\n",
      "20/20 [==============================] - 13s 667ms/step - loss: 3.6764 - accuracy: 0.7398 - val_loss: 1.1155 - val_accuracy: 0.6500\n",
      "Epoch 42/80\n",
      "20/20 [==============================] - 13s 665ms/step - loss: 3.3165 - accuracy: 0.7461 - val_loss: 1.3858 - val_accuracy: 0.6750\n",
      "Epoch 43/80\n",
      "20/20 [==============================] - 14s 678ms/step - loss: 2.9276 - accuracy: 0.7680 - val_loss: 1.1903 - val_accuracy: 0.6625\n",
      "Epoch 44/80\n",
      "20/20 [==============================] - 14s 681ms/step - loss: 3.2490 - accuracy: 0.7555 - val_loss: 1.4569 - val_accuracy: 0.6875\n",
      "Epoch 45/80\n",
      "20/20 [==============================] - 13s 668ms/step - loss: 3.5997 - accuracy: 0.7335 - val_loss: 1.1161 - val_accuracy: 0.6750\n",
      "Epoch 46/80\n",
      "20/20 [==============================] - 13s 650ms/step - loss: 3.6469 - accuracy: 0.7461 - val_loss: 1.4711 - val_accuracy: 0.6375\n",
      "Epoch 47/80\n",
      "20/20 [==============================] - 13s 651ms/step - loss: 3.5660 - accuracy: 0.7241 - val_loss: 1.1542 - val_accuracy: 0.7375\n",
      "Epoch 48/80\n",
      "20/20 [==============================] - 13s 649ms/step - loss: 3.7627 - accuracy: 0.7398 - val_loss: 1.5745 - val_accuracy: 0.6125\n",
      "Epoch 49/80\n",
      "20/20 [==============================] - 13s 645ms/step - loss: 3.0429 - accuracy: 0.7806 - val_loss: 1.3662 - val_accuracy: 0.6750\n",
      "Epoch 50/80\n",
      "20/20 [==============================] - 13s 654ms/step - loss: 3.4766 - accuracy: 0.7712 - val_loss: 1.2601 - val_accuracy: 0.7250\n",
      "Epoch 51/80\n",
      "20/20 [==============================] - 13s 655ms/step - loss: 2.9817 - accuracy: 0.8056 - val_loss: 1.3355 - val_accuracy: 0.7125\n",
      "Epoch 52/80\n",
      "20/20 [==============================] - 13s 658ms/step - loss: 2.9927 - accuracy: 0.7931 - val_loss: 1.2573 - val_accuracy: 0.7125\n",
      "Epoch 53/80\n",
      "20/20 [==============================] - 13s 656ms/step - loss: 3.4937 - accuracy: 0.7649 - val_loss: 1.4770 - val_accuracy: 0.6750\n",
      "Epoch 54/80\n",
      "20/20 [==============================] - 13s 649ms/step - loss: 2.9336 - accuracy: 0.8088 - val_loss: 1.3507 - val_accuracy: 0.7125\n",
      "Epoch 55/80\n",
      "20/20 [==============================] - 13s 666ms/step - loss: 3.5621 - accuracy: 0.7743 - val_loss: 1.4639 - val_accuracy: 0.7125\n",
      "Epoch 56/80\n",
      "20/20 [==============================] - 18s 880ms/step - loss: 3.2999 - accuracy: 0.7837 - val_loss: 1.3196 - val_accuracy: 0.7125\n",
      "Epoch 57/80\n",
      "20/20 [==============================] - 18s 919ms/step - loss: 3.1884 - accuracy: 0.7774 - val_loss: 1.3952 - val_accuracy: 0.6375\n"
     ]
    },
    {
     "name": "stdout",
     "output_type": "stream",
     "text": [
      "Epoch 58/80\n",
      "20/20 [==============================] - 24s 1s/step - loss: 3.7666 - accuracy: 0.7335 - val_loss: 1.2935 - val_accuracy: 0.6750\n",
      "Epoch 59/80\n",
      "20/20 [==============================] - 15s 772ms/step - loss: 3.3983 - accuracy: 0.7743 - val_loss: 1.2930 - val_accuracy: 0.7000\n",
      "Epoch 60/80\n",
      "20/20 [==============================] - 15s 726ms/step - loss: 3.1766 - accuracy: 0.7962 - val_loss: 1.3360 - val_accuracy: 0.7125\n",
      "Epoch 61/80\n",
      "20/20 [==============================] - 15s 760ms/step - loss: 3.6883 - accuracy: 0.7492 - val_loss: 1.2920 - val_accuracy: 0.7125\n",
      "Epoch 62/80\n",
      "20/20 [==============================] - 19s 965ms/step - loss: 2.8880 - accuracy: 0.8025 - val_loss: 1.2237 - val_accuracy: 0.7375\n",
      "Epoch 63/80\n",
      "20/20 [==============================] - 16s 807ms/step - loss: 2.8073 - accuracy: 0.8213 - val_loss: 1.3287 - val_accuracy: 0.7000\n",
      "Epoch 64/80\n",
      "20/20 [==============================] - 14s 713ms/step - loss: 3.1966 - accuracy: 0.8025 - val_loss: 1.5496 - val_accuracy: 0.7125\n",
      "Epoch 65/80\n",
      "20/20 [==============================] - 15s 726ms/step - loss: 2.9946 - accuracy: 0.8150 - val_loss: 1.6406 - val_accuracy: 0.7125\n",
      "Epoch 66/80\n",
      "20/20 [==============================] - 14s 714ms/step - loss: 3.3194 - accuracy: 0.7837 - val_loss: 1.4473 - val_accuracy: 0.7125\n",
      "Epoch 67/80\n",
      "20/20 [==============================] - 14s 708ms/step - loss: 3.2570 - accuracy: 0.7931 - val_loss: 1.4789 - val_accuracy: 0.7250\n",
      "Epoch 68/80\n",
      "20/20 [==============================] - 14s 683ms/step - loss: 3.0584 - accuracy: 0.8025 - val_loss: 1.4059 - val_accuracy: 0.7375\n",
      "Epoch 69/80\n",
      "20/20 [==============================] - 15s 725ms/step - loss: 3.2994 - accuracy: 0.7931 - val_loss: 1.4148 - val_accuracy: 0.7500\n",
      "Epoch 70/80\n",
      "20/20 [==============================] - 14s 702ms/step - loss: 3.0729 - accuracy: 0.7994 - val_loss: 1.3866 - val_accuracy: 0.7125\n",
      "Epoch 71/80\n",
      "20/20 [==============================] - 14s 694ms/step - loss: 2.7077 - accuracy: 0.8245 - val_loss: 1.4349 - val_accuracy: 0.7250\n",
      "Epoch 72/80\n",
      "20/20 [==============================] - 15s 755ms/step - loss: 3.3093 - accuracy: 0.7837 - val_loss: 1.4156 - val_accuracy: 0.6875\n",
      "Epoch 73/80\n",
      "20/20 [==============================] - 14s 712ms/step - loss: 3.5245 - accuracy: 0.7712 - val_loss: 2.0025 - val_accuracy: 0.6500\n",
      "Epoch 74/80\n",
      "20/20 [==============================] - 15s 760ms/step - loss: 3.7155 - accuracy: 0.7398 - val_loss: 1.4432 - val_accuracy: 0.7125\n",
      "Epoch 75/80\n",
      "20/20 [==============================] - 14s 715ms/step - loss: 3.0227 - accuracy: 0.7900 - val_loss: 1.3046 - val_accuracy: 0.7125\n",
      "Epoch 76/80\n",
      "20/20 [==============================] - 15s 739ms/step - loss: 3.2666 - accuracy: 0.7743 - val_loss: 1.2735 - val_accuracy: 0.6750\n",
      "Epoch 77/80\n",
      "20/20 [==============================] - 14s 702ms/step - loss: 3.3861 - accuracy: 0.7680 - val_loss: 1.5965 - val_accuracy: 0.6875\n",
      "Epoch 78/80\n",
      "20/20 [==============================] - 15s 732ms/step - loss: 3.1921 - accuracy: 0.7461 - val_loss: 1.6127 - val_accuracy: 0.6625\n",
      "Epoch 79/80\n",
      "20/20 [==============================] - 17s 838ms/step - loss: 2.9582 - accuracy: 0.7900 - val_loss: 1.3677 - val_accuracy: 0.7250\n",
      "Epoch 80/80\n",
      "20/20 [==============================] - 14s 679ms/step - loss: 3.6616 - accuracy: 0.7680 - val_loss: 1.4380 - val_accuracy: 0.6875\n"
     ]
    }
   ],
   "source": [
    "\n",
    "history = model2.fit(features_convolution, y,batch_size=16, epochs=80,validation_split=0.2)"
   ]
  },
  {
   "cell_type": "code",
   "execution_count": 114,
   "metadata": {},
   "outputs": [
    {
     "data": {
      "image/png": "[encoded data removed]",
      "text/plain": [
       "<Figure size 432x288 with 1 Axes>"
      ]
     },
     "metadata": {
      "needs_background": "light"
     },
     "output_type": "display_data"
    },
    {
     "data": {
      "text/plain": [
       "<Figure size 432x288 with 0 Axes>"
      ]
     },
     "metadata": {},
     "output_type": "display_data"
    }
   ],
   "source": [
    "import matplotlib.pyplot as plt\n",
    "acc = history.history['accuracy']\n",
    "val_acc = history.history['val_accuracy']\n",
    "loss = history.history['loss']\n",
    "val_loss = history.history['val_loss']\n",
    "\n",
    "epochs = range(len(acc))\n",
    "\n",
    "plt.plot(epochs, acc, 'r', label='Training accuracy')\n",
    "plt.plot(epochs, val_acc, 'b', label='Validation accuracy')\n",
    "plt.title('Training and validation accuracy')\n",
    "plt.legend(loc=0)\n",
    "plt.figure()\n",
    "\n",
    "\n",
    "plt.show()"
   ]
  },
  {
   "cell_type": "code",
   "execution_count": 123,
   "metadata": {},
   "outputs": [],
   "source": [
    "acc = history.history['accuracy']\n",
    "val_acc = history.history['val_accuracy']\n",
    "sum_of_error = 0\n",
    "for i,j in zip(acc,val_acc):\n",
    "    sum_of_error += j - i"
   ]
  },
  {
   "cell_type": "code",
   "execution_count": 124,
   "metadata": {},
   "outputs": [
    {
     "data": {
      "text/plain": [
       "-4.508072257041931"
      ]
     },
     "execution_count": 124,
     "metadata": {},
     "output_type": "execute_result"
    }
   ],
   "source": [
    "sum_of_error"
   ]
  },
  {
   "cell_type": "code",
   "execution_count": 146,
   "metadata": {},
   "outputs": [
    {
     "name": "stdout",
     "output_type": "stream",
     "text": [
      "WARNING:tensorflow:From C:\\Users\\Talha Khan\\anaconda3\\envs\\tensorflow\\lib\\site-packages\\tensorflow\\python\\training\\tracking\\tracking.py:111: Model.state_updates (from tensorflow.python.keras.engine.training) is deprecated and will be removed in a future version.\n",
      "Instructions for updating:\n",
      "This property should not be used in TensorFlow 2.0, as updates are applied automatically.\n",
      "WARNING:tensorflow:From C:\\Users\\Talha Khan\\anaconda3\\envs\\tensorflow\\lib\\site-packages\\tensorflow\\python\\training\\tracking\\tracking.py:111: Layer.updates (from tensorflow.python.keras.engine.base_layer) is deprecated and will be removed in a future version.\n",
      "Instructions for updating:\n",
      "This property should not be used in TensorFlow 2.0, as updates are applied automatically.\n",
      "INFO:tensorflow:Assets written to: saved_model/my_model\\assets\n"
     ]
    }
   ],
   "source": [
    "model.save('saved_model/my_model')"
   ]
  },
  {
   "cell_type": "code",
   "execution_count": 158,
   "metadata": {},
   "outputs": [],
   "source": [
    "import pandas as pd\n",
    "df = pd.DataFrame(labels)\n",
    "df.to_csv('labels.csv')"
   ]
  },
  {
   "cell_type": "code",
   "execution_count": 147,
   "metadata": {},
   "outputs": [],
   "source": [
    "new_model = tf.keras.models.load_model('saved_model/my_model')"
   ]
  },
  {
   "cell_type": "code",
   "execution_count": null,
   "metadata": {},
   "outputs": [],
   "source": []
  },
  {
   "cell_type": "code",
   "execution_count": null,
   "metadata": {},
   "outputs": [],
   "source": []
  }
 ],
 "metadata": {
  "kernelspec": {
   "display_name": "Python 3",
   "language": "python",
   "name": "python3"
  },
  "language_info": {
   "codemirror_mode": {
    "name": "ipython",
    "version": 3
   },
   "file_extension": ".py",
   "mimetype": "text/x-python",
   "name": "python",
   "nbconvert_exporter": "python",
   "pygments_lexer": "ipython3",
   "version": "3.8.8"
  }
 },
 "nbformat": 4,
 "nbformat_minor": 2
}
